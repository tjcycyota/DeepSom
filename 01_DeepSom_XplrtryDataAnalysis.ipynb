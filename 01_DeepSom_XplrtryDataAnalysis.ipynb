{
 "cells": [
  {
   "cell_type": "markdown",
   "metadata": {},
   "source": [
    "# DeepSom: Exploratory Data Analaysis \n",
    "### Notebook 1\n",
    "\n",
    "#### By TJ Cycyota\n",
    "##### Thanks to [Zack Thoutt](https://github.com/zackthoutt/wine-deep-learning) for inspiration\n",
    "\n",
    "### Hypothesis\n",
    "A neural network can be trained on wine data from Wine Spectator (scraped from winemag.com), including reviews, growing region, and price, to predict grape varietals. It is going to take several notebooks to get there, but let's see what our data looks like.\n",
    "<img src=\"winemag_screenshot.png\" style=\"height: 300px;\">\n",
    "\n",
    "#### Input Data\n",
    "\n",
    "x rows \n",
    "\n",
    "y feature columns:\n",
    "    - Country \n",
    "    - Description (free-text)\n",
    "    - Designation\n",
    "    - Points (80-100 based on Wine Spectator score)\n",
    "    - Price\n",
    "    - Province \n",
    "    - Region 1\n",
    "    - Region 2\n",
    "    - Taster name (who contributed the review)\n",
    "    - Taster Twitter handle\n",
    "    - Title (of the wine)\n",
    "    - Variety\n",
    "    - Winery"
   ]
  },
  {
   "cell_type": "markdown",
   "metadata": {},
   "source": [
    "### Import packages"
   ]
  },
  {
   "cell_type": "code",
   "execution_count": 3,
   "metadata": {},
   "outputs": [
    {
     "name": "stdout",
     "output_type": "stream",
     "text": [
      "[nltk_data] Downloading package punkt to\n",
      "[nltk_data]     /Users/thomas.j.cycyota/nltk_data...\n",
      "[nltk_data]   Unzipping tokenizers/punkt.zip.\n"
     ]
    }
   ],
   "source": [
    "from collections import Counter\n",
    "import numpy as np\n",
    "import nltk\n",
    "import re\n",
    "import sklearn.manifold\n",
    "import multiprocessing\n",
    "import pandas as pd\n",
    "import gensim.models.word2vec as w2v\n",
    "import seaborn as sns\n",
    "%matplotlib inline\n",
    "\n",
    "nltk.download('punkt')\n",
    "\n",
    "from nltk import word_tokenize,sent_tokenize"
   ]
  },
  {
   "cell_type": "markdown",
   "metadata": {},
   "source": [
    "### Load the Data\n",
    "Data was previously scraped using the file 'scrape-winemag.py'. The dataset can be found on [Kaggle](https://www.kaggle.com/zynicide/wine-reviews) or you can run Zack Thoutt's sraper on [Github](https://github.com/zackthoutt/wine-deep-learning). The line below loads the dataset included in this repo."
   ]
  },
  {
   "cell_type": "code",
   "execution_count": 4,
   "metadata": {},
   "outputs": [],
   "source": [
    "data = pd.read_json('winemag-data.json', dtype={\n",
    "    'points': np.int32,\n",
    "    'price': np.float32,\n",
    "})"
   ]
  },
  {
   "cell_type": "code",
   "execution_count": 5,
   "metadata": {
    "scrolled": false
   },
   "outputs": [
    {
     "data": {
      "text/html": [
       "<div>\n",
       "<style scoped>\n",
       "    .dataframe tbody tr th:only-of-type {\n",
       "        vertical-align: middle;\n",
       "    }\n",
       "\n",
       "    .dataframe tbody tr th {\n",
       "        vertical-align: top;\n",
       "    }\n",
       "\n",
       "    .dataframe thead th {\n",
       "        text-align: right;\n",
       "    }\n",
       "</style>\n",
       "<table border=\"1\" class=\"dataframe\">\n",
       "  <thead>\n",
       "    <tr style=\"text-align: right;\">\n",
       "      <th></th>\n",
       "      <th>country</th>\n",
       "      <th>description</th>\n",
       "      <th>designation</th>\n",
       "      <th>points</th>\n",
       "      <th>price</th>\n",
       "      <th>province</th>\n",
       "      <th>region_1</th>\n",
       "      <th>region_2</th>\n",
       "      <th>taster_name</th>\n",
       "      <th>taster_twitter_handle</th>\n",
       "      <th>title</th>\n",
       "      <th>variety</th>\n",
       "      <th>winery</th>\n",
       "    </tr>\n",
       "  </thead>\n",
       "  <tbody>\n",
       "    <tr>\n",
       "      <th>0</th>\n",
       "      <td>France</td>\n",
       "      <td>This Chardonnay-based wine, with 10% Chenin Bl...</td>\n",
       "      <td>None</td>\n",
       "      <td>87</td>\n",
       "      <td>10.0</td>\n",
       "      <td>Languedoc-Roussillon</td>\n",
       "      <td>Pays d'Oc</td>\n",
       "      <td>None</td>\n",
       "      <td>Lauren Buzzeo</td>\n",
       "      <td>@laurbuzz</td>\n",
       "      <td>Domaine Rives-Blanques 2016 White (Pays d'Oc)</td>\n",
       "      <td>White Blend</td>\n",
       "      <td>Domaine Rives-Blanques</td>\n",
       "    </tr>\n",
       "    <tr>\n",
       "      <th>1</th>\n",
       "      <td>France</td>\n",
       "      <td>Wood aromas and spice show strongly in this wi...</td>\n",
       "      <td>Domaine de la Ferté</td>\n",
       "      <td>87</td>\n",
       "      <td>35.0</td>\n",
       "      <td>Burgundy</td>\n",
       "      <td>Givry</td>\n",
       "      <td>None</td>\n",
       "      <td>Roger Voss</td>\n",
       "      <td>@vossroger</td>\n",
       "      <td>Domaines Devillard 2015 Domaine de la Ferté  (...</td>\n",
       "      <td>Pinot Noir</td>\n",
       "      <td>Domaines Devillard</td>\n",
       "    </tr>\n",
       "    <tr>\n",
       "      <th>2</th>\n",
       "      <td>France</td>\n",
       "      <td>Showcasing the rich vintage, this is a generou...</td>\n",
       "      <td>Le Renard</td>\n",
       "      <td>87</td>\n",
       "      <td>23.0</td>\n",
       "      <td>Burgundy</td>\n",
       "      <td>Bourgogne</td>\n",
       "      <td>None</td>\n",
       "      <td>Roger Voss</td>\n",
       "      <td>@vossroger</td>\n",
       "      <td>Domaines Devillard 2015 Le Renard  (Bourgogne)</td>\n",
       "      <td>Pinot Noir</td>\n",
       "      <td>Domaines Devillard</td>\n",
       "    </tr>\n",
       "    <tr>\n",
       "      <th>3</th>\n",
       "      <td>France</td>\n",
       "      <td>This large appellation in the Côte Chalonnaise...</td>\n",
       "      <td>Laurent Dufouleur Château Mi-Pont</td>\n",
       "      <td>87</td>\n",
       "      <td>40.0</td>\n",
       "      <td>Burgundy</td>\n",
       "      <td>Mercurey</td>\n",
       "      <td>None</td>\n",
       "      <td>Roger Voss</td>\n",
       "      <td>@vossroger</td>\n",
       "      <td>L. Tramier &amp; Fils 2015 Laurent Dufouleur Châte...</td>\n",
       "      <td>Pinot Noir</td>\n",
       "      <td>L. Tramier &amp; Fils</td>\n",
       "    </tr>\n",
       "    <tr>\n",
       "      <th>4</th>\n",
       "      <td>France</td>\n",
       "      <td>This tangy, ripe and fruity wine is crisp with...</td>\n",
       "      <td>None</td>\n",
       "      <td>87</td>\n",
       "      <td>19.0</td>\n",
       "      <td>Burgundy</td>\n",
       "      <td>Mâcon-Villages</td>\n",
       "      <td>None</td>\n",
       "      <td>Roger Voss</td>\n",
       "      <td>@vossroger</td>\n",
       "      <td>Louis Max 2016  Mâcon-Villages</td>\n",
       "      <td>Chardonnay</td>\n",
       "      <td>Louis Max</td>\n",
       "    </tr>\n",
       "  </tbody>\n",
       "</table>\n",
       "</div>"
      ],
      "text/plain": [
       "  country                                        description  \\\n",
       "0  France  This Chardonnay-based wine, with 10% Chenin Bl...   \n",
       "1  France  Wood aromas and spice show strongly in this wi...   \n",
       "2  France  Showcasing the rich vintage, this is a generou...   \n",
       "3  France  This large appellation in the Côte Chalonnaise...   \n",
       "4  France  This tangy, ripe and fruity wine is crisp with...   \n",
       "\n",
       "                         designation  points  price              province  \\\n",
       "0                               None      87   10.0  Languedoc-Roussillon   \n",
       "1                Domaine de la Ferté      87   35.0              Burgundy   \n",
       "2                          Le Renard      87   23.0              Burgundy   \n",
       "3  Laurent Dufouleur Château Mi-Pont      87   40.0              Burgundy   \n",
       "4                               None      87   19.0              Burgundy   \n",
       "\n",
       "         region_1 region_2    taster_name taster_twitter_handle  \\\n",
       "0       Pays d'Oc     None  Lauren Buzzeo             @laurbuzz   \n",
       "1           Givry     None     Roger Voss            @vossroger   \n",
       "2       Bourgogne     None     Roger Voss            @vossroger   \n",
       "3        Mercurey     None     Roger Voss            @vossroger   \n",
       "4  Mâcon-Villages     None     Roger Voss            @vossroger   \n",
       "\n",
       "                                               title      variety  \\\n",
       "0      Domaine Rives-Blanques 2016 White (Pays d'Oc)  White Blend   \n",
       "1  Domaines Devillard 2015 Domaine de la Ferté  (...   Pinot Noir   \n",
       "2     Domaines Devillard 2015 Le Renard  (Bourgogne)   Pinot Noir   \n",
       "3  L. Tramier & Fils 2015 Laurent Dufouleur Châte...   Pinot Noir   \n",
       "4                     Louis Max 2016  Mâcon-Villages   Chardonnay   \n",
       "\n",
       "                   winery  \n",
       "0  Domaine Rives-Blanques  \n",
       "1      Domaines Devillard  \n",
       "2      Domaines Devillard  \n",
       "3       L. Tramier & Fils  \n",
       "4               Louis Max  "
      ]
     },
     "execution_count": 5,
     "metadata": {},
     "output_type": "execute_result"
    }
   ],
   "source": [
    "data.head()"
   ]
  },
  {
   "cell_type": "markdown",
   "metadata": {},
   "source": [
    "Looks like we have 10K+ reviews! Should be great for some exploratory analysis, but we'll need to go much bigger for deep learning work."
   ]
  },
  {
   "cell_type": "code",
   "execution_count": 6,
   "metadata": {},
   "outputs": [
    {
     "data": {
      "text/plain": [
       "(12895, 13)"
      ]
     },
     "execution_count": 6,
     "metadata": {},
     "output_type": "execute_result"
    }
   ],
   "source": [
    "data.shape"
   ]
  },
  {
   "cell_type": "markdown",
   "metadata": {},
   "source": [
    "The average wine scores 89.5 points on winemag.com (the site itself does not rate wines below 88 points, I believe). The average cost of each bottle $40. \n",
    "\n",
    "It will be interesting to return to these two columns to see if they offer any predictive power for determining wine variety (is a cabernet sauvignon more expensive then a red blend? I think so)."
   ]
  },
  {
   "cell_type": "code",
   "execution_count": 7,
   "metadata": {
    "scrolled": false
   },
   "outputs": [
    {
     "data": {
      "text/html": [
       "<div>\n",
       "<style scoped>\n",
       "    .dataframe tbody tr th:only-of-type {\n",
       "        vertical-align: middle;\n",
       "    }\n",
       "\n",
       "    .dataframe tbody tr th {\n",
       "        vertical-align: top;\n",
       "    }\n",
       "\n",
       "    .dataframe thead th {\n",
       "        text-align: right;\n",
       "    }\n",
       "</style>\n",
       "<table border=\"1\" class=\"dataframe\">\n",
       "  <thead>\n",
       "    <tr style=\"text-align: right;\">\n",
       "      <th></th>\n",
       "      <th>points</th>\n",
       "      <th>price</th>\n",
       "    </tr>\n",
       "  </thead>\n",
       "  <tbody>\n",
       "    <tr>\n",
       "      <th>count</th>\n",
       "      <td>12895.00000</td>\n",
       "      <td>12213.000000</td>\n",
       "    </tr>\n",
       "    <tr>\n",
       "      <th>mean</th>\n",
       "      <td>89.58356</td>\n",
       "      <td>40.185047</td>\n",
       "    </tr>\n",
       "    <tr>\n",
       "      <th>std</th>\n",
       "      <td>2.98751</td>\n",
       "      <td>45.770435</td>\n",
       "    </tr>\n",
       "    <tr>\n",
       "      <th>min</th>\n",
       "      <td>80.00000</td>\n",
       "      <td>4.000000</td>\n",
       "    </tr>\n",
       "    <tr>\n",
       "      <th>25%</th>\n",
       "      <td>87.00000</td>\n",
       "      <td>20.000000</td>\n",
       "    </tr>\n",
       "    <tr>\n",
       "      <th>50%</th>\n",
       "      <td>90.00000</td>\n",
       "      <td>30.000000</td>\n",
       "    </tr>\n",
       "    <tr>\n",
       "      <th>75%</th>\n",
       "      <td>92.00000</td>\n",
       "      <td>48.000000</td>\n",
       "    </tr>\n",
       "    <tr>\n",
       "      <th>max</th>\n",
       "      <td>100.00000</td>\n",
       "      <td>1116.000000</td>\n",
       "    </tr>\n",
       "  </tbody>\n",
       "</table>\n",
       "</div>"
      ],
      "text/plain": [
       "            points         price\n",
       "count  12895.00000  12213.000000\n",
       "mean      89.58356     40.185047\n",
       "std        2.98751     45.770435\n",
       "min       80.00000      4.000000\n",
       "25%       87.00000     20.000000\n",
       "50%       90.00000     30.000000\n",
       "75%       92.00000     48.000000\n",
       "max      100.00000   1116.000000"
      ]
     },
     "execution_count": 7,
     "metadata": {},
     "output_type": "execute_result"
    }
   ],
   "source": [
    "data.describe()"
   ]
  },
  {
   "cell_type": "markdown",
   "metadata": {},
   "source": [
    "### Break data into Labels and Descriptions\n",
    "\n",
    "This will allow us to explore the different wine varieties included in the dataset, and will come in handy later in the notebook for Word2Vec implementation."
   ]
  },
  {
   "cell_type": "code",
   "execution_count": 8,
   "metadata": {},
   "outputs": [],
   "source": [
    "labels = data['variety']\n",
    "descriptions = data['description']"
   ]
  },
  {
   "cell_type": "markdown",
   "metadata": {},
   "source": [
    "Let's look at some of the varieties. You can switch .tail() to .head() to see the most common varieties, but I like these less-common ones."
   ]
  },
  {
   "cell_type": "code",
   "execution_count": 12,
   "metadata": {
    "scrolled": true
   },
   "outputs": [
    {
     "data": {
      "text/plain": [
       "Cabernet Merlot    1\n",
       "Pinot Auxerrois    1\n",
       "Cabernet-Syrah     1\n",
       "Tinta del Pais     1\n",
       "Valvin Muscat      1\n",
       "Name: variety, dtype: int64"
      ]
     },
     "execution_count": 12,
     "metadata": {},
     "output_type": "execute_result"
    }
   ],
   "source": [
    "#variety_list = data.groupby('variety')['title'].nunique()\n",
    "variety_list = data.variety.value_counts()\n",
    "variety_list.tail()"
   ]
  },
  {
   "cell_type": "markdown",
   "metadata": {},
   "source": [
    "Seems like we have some less common wine varieties in this data! If you run this notebook you may see different varietals listed in the \"tail\" command. Turns out \"Feteascǎ Regalǎ\" is from Romania, and \"Juhfark\" is from Hungary. Already learning something new! After doing a sum on the variety_list, we can see that every row of data is labeled with a variety, and there are quite a few different varieties. We won't need to clean the data or drop nulls as they seem properly labeled."
   ]
  },
  {
   "cell_type": "code",
   "execution_count": 13,
   "metadata": {},
   "outputs": [
    {
     "data": {
      "text/plain": [
       "12895"
      ]
     },
     "execution_count": 13,
     "metadata": {},
     "output_type": "execute_result"
    }
   ],
   "source": [
    "# This number should match the total number of reviews to indicate each review has a variety tagged to it.\n",
    "variety_list.sum()"
   ]
  },
  {
   "cell_type": "code",
   "execution_count": 14,
   "metadata": {},
   "outputs": [
    {
     "data": {
      "text/plain": [
       "319"
      ]
     },
     "execution_count": 14,
     "metadata": {},
     "output_type": "execute_result"
    }
   ],
   "source": [
    "#Number of unique wine varietals.\n",
    "data.variety.nunique()"
   ]
  },
  {
   "cell_type": "markdown",
   "metadata": {},
   "source": [
    "### Initial Exploration\n",
    "Let's take a look at a few descriptions of a few different varieties, chosen at random. Hopefully they use different words to describe the wine since we'll be using these descriptions to try to classify the wine variety.\n",
    "\n",
    "During the part below, I also noticed that some of the wine varieties contain non-ASCII characters (é, ô, etc.). We'll have to figure out how to deal with those later."
   ]
  },
  {
   "cell_type": "code",
   "execution_count": 15,
   "metadata": {
    "scrolled": true
   },
   "outputs": [
    {
     "name": "stdout",
     "output_type": "stream",
     "text": [
      "Zinfandel : This is a great value for a wine from the celebrated Amador region. Aromas like strawberry jam and brown sugar lead to very ripe and fruity flavors in this full-bodied but lively wine. It's fun to sip and doesn't try for a serious profile or heavy texture.\n",
      " \n",
      "Red Blend : This opens with aromas of oak, blackberry and baking spice. The dense, taut palate shows black currant, toast and vanilla alongside tightly wound tannins. Drink through 2020.\n",
      " \n",
      "Sparkling Blend : Dry and nicely mature, this complex wine is always among California's best bubblies. It combines great balance, tiny bubbles and some very interesting flavors that make it as appealing as a well-cellared white Burgundy at its peak. Hints of toast, butter and almond fill the aroma, and lemon, crisp apple and baking spices fill the palate. It has lively acidity that's softened by a good sense of body.\n"
     ]
    }
   ],
   "source": [
    "print('{} : {}'.format(labels.tolist()[11], descriptions.tolist()[11]))\n",
    "print(' ')\n",
    "print('{} : {}'.format(labels.tolist()[100], descriptions.tolist()[100]))\n",
    "print(' ')\n",
    "print('{} : {}'.format(labels.tolist()[1000], descriptions.tolist()[1000]))"
   ]
  },
  {
   "cell_type": "markdown",
   "metadata": {},
   "source": [
    "Seems to be clear differences in adjectives and tastes used in the descriptions of these wines. Now let's look at the most commonly-reviewed wines. These are not surprising, and if you've tasted wine you may have heard of a few!"
   ]
  },
  {
   "cell_type": "code",
   "execution_count": 16,
   "metadata": {},
   "outputs": [
    {
     "name": "stdout",
     "output_type": "stream",
     "text": [
      "Pinot Noir                  1762\n",
      "Chardonnay                  1212\n",
      "Bordeaux-style Red Blend     986\n",
      "Red Blend                    933\n",
      "Cabernet Sauvignon           721\n",
      "Riesling                     636\n",
      "Sparkling Blend              418\n",
      "Sauvignon Blanc              364\n",
      "Gamay                        363\n",
      "Syrah                        326\n",
      "Nebbiolo                     300\n",
      "Portuguese Red               221\n",
      "Merlot                       213\n",
      "Glera                        197\n",
      "Rosé                         187\n",
      "White Blend                  184\n",
      "Zinfandel                    181\n",
      "Malbec                       173\n",
      "Rhône-style Red Blend        157\n",
      "Sangiovese                   148\n",
      "Name: variety, dtype: int64\n"
     ]
    }
   ],
   "source": [
    "varietal_counts = labels.value_counts()\n",
    "print(varietal_counts[:20])"
   ]
  },
  {
   "cell_type": "markdown",
   "metadata": {},
   "source": [
    "## Word2Vec\n",
    "### Formatting the Data\n",
    "Word2Vec is a common approach to word embedding, and after hearing and reading about it, I was excited to try it out. This notebook uses the gensim library. \n",
    "\n",
    "The model requires a single string for training. We'll concatenate all of the descriptions together; this will take a few seconds or minutes to run (giant loop)."
   ]
  },
  {
   "cell_type": "code",
   "execution_count": 17,
   "metadata": {},
   "outputs": [],
   "source": [
    "corp_raw = \"\"\n",
    "for descrip in descriptions:\n",
    "    corp_raw += descrip"
   ]
  },
  {
   "cell_type": "markdown",
   "metadata": {},
   "source": [
    "Additionally, we must tokenize our corpus to allow for cleaner processing by Word2Vec:\n",
    "\n",
    "    Giant string -> Array of sentences -> Array of words\n",
    "       corp-raw  ->    raw_sentences   ->   sentences"
   ]
  },
  {
   "cell_type": "code",
   "execution_count": 18,
   "metadata": {
    "scrolled": true
   },
   "outputs": [],
   "source": [
    "# Load the NLTK English tokenizer\n",
    "tokenizer = nltk.data.load('tokenizers/punkt/english.pickle')\n",
    "\n",
    "# Apply tokenizer to our giant string\n",
    "raw_sentences = tokenizer.tokenize(corp_raw)"
   ]
  },
  {
   "cell_type": "code",
   "execution_count": 19,
   "metadata": {},
   "outputs": [],
   "source": [
    "# Use regular expressions to clean and split the sentences\n",
    "def sentence_to_wordlist(raw):\n",
    "    clean = re.sub(\"[^a-zA-Z]\",\" \", raw)\n",
    "    words = clean.split()\n",
    "    return words\n",
    "\n",
    "sentences = []\n",
    "for raw_sentence in raw_sentences:\n",
    "    if len(raw_sentence) > 0:\n",
    "        sentences.append(sentence_to_wordlist(raw_sentence))"
   ]
  },
  {
   "cell_type": "code",
   "execution_count": 23,
   "metadata": {},
   "outputs": [
    {
     "name": "stdout",
     "output_type": "stream",
     "text": [
      "That said, it does have the potential to bring out more of the black currant fruit of the vintage.\n",
      "['That', 'said', 'it', 'does', 'have', 'the', 'potential', 'to', 'bring', 'out', 'more', 'of', 'the', 'black', 'currant', 'fruit', 'of', 'the', 'vintage']\n"
     ]
    }
   ],
   "source": [
    "print(raw_sentences[101])\n",
    "print(sentence_to_wordlist(raw_sentences[101]))"
   ]
  },
  {
   "cell_type": "code",
   "execution_count": 24,
   "metadata": {},
   "outputs": [
    {
     "name": "stdout",
     "output_type": "stream",
     "text": [
      "There are 551,287 tokens in the wine corpus\n"
     ]
    }
   ],
   "source": [
    "token_count = sum([len(sentence) for sentence in sentences])\n",
    "print('There are {0:,} tokens in the wine corpus'.format(token_count))"
   ]
  },
  {
   "cell_type": "markdown",
   "metadata": {},
   "source": [
    "### Training the Model\n",
    "Hats off to Zack Thoutt again on this one. I have used his settings to get Word2Vec to work well. His notebook contains a description of how these factors influence the performance of this model. Quoted below: \n",
    "\n",
    "> It took some experimenting to get the model to train well. The main things hyperparameters that I had to tune were `min_word_count` and `context_size`. \n",
    "\n",
    "> I usually train word2vec models with a `min_word_count` closer to 3-5, but since this dataset is so large I had to bump it up to 10. When I was training the model on a smaller `min_word_count` I was getting a lot of winery and vinyard noise in my word similarities (ie the words most similar to \"cherry\" were a bunch of foreign vinyards, wineries, regions, etc.). After looking through some of the descriptions I came to the conclusion that most of the wine descriptions don't mention the wine varietal, vinyard, or winery, but some do. So I played with the `min_word_count` until those rare instances had less of an effect on the model.\n",
    "\n",
    "> I also had to play with the `context_size` quite a bit. 10 is a pretty large context size, but it makes sense here because really all of the words in a sentence are related to each other in the context of wine descriptions and what were are trying to accomplish. I might even experiment with bumping the `context_size` up higher at some point, but even now most of the words in each sentence will be associated with each other in the model."
   ]
  },
  {
   "cell_type": "code",
   "execution_count": 25,
   "metadata": {},
   "outputs": [],
   "source": [
    "num_features = 300\n",
    "min_word_count = 1\n",
    "num_workers = multiprocessing.cpu_count()\n",
    "context_size = 5\n",
    "downsampling = 1e-3\n",
    "seed=1993"
   ]
  },
  {
   "cell_type": "code",
   "execution_count": 26,
   "metadata": {},
   "outputs": [],
   "source": [
    "wine2vec = w2v.Word2Vec(\n",
    "    sg=1,\n",
    "    seed=seed,\n",
    "    workers=num_workers,\n",
    "    size=num_features,\n",
    "    min_count=min_word_count,\n",
    "    window=context_size,\n",
    "    sample=downsampling\n",
    ")"
   ]
  },
  {
   "cell_type": "code",
   "execution_count": 27,
   "metadata": {},
   "outputs": [
    {
     "name": "stdout",
     "output_type": "stream",
     "text": [
      "Word2Vec vocabulary length: 12149\n",
      "Wine2vec Corpus Count:  24106\n"
     ]
    }
   ],
   "source": [
    "wine2vec.build_vocab(sentences)\n",
    "print('Word2Vec vocabulary length:', len(wine2vec.wv.vocab))\n",
    "print('Wine2vec Corpus Count: ', wine2vec.corpus_count)"
   ]
  },
  {
   "cell_type": "code",
   "execution_count": 28,
   "metadata": {},
   "outputs": [
    {
     "name": "stderr",
     "output_type": "stream",
     "text": [
      "/Users/thomas.j.cycyota/miniconda3/lib/python3.6/site-packages/ipykernel_launcher.py:1: DeprecationWarning: Call to deprecated `iter` (Attribute will be removed in 4.0.0, use self.epochs instead).\n",
      "  \"\"\"Entry point for launching an IPython kernel.\n"
     ]
    },
    {
     "data": {
      "text/plain": [
       "(1971754, 2756435)"
      ]
     },
     "execution_count": 28,
     "metadata": {},
     "output_type": "execute_result"
    }
   ],
   "source": [
    "wine2vec.train(sentences, total_examples=wine2vec.corpus_count, epochs=wine2vec.iter)"
   ]
  },
  {
   "cell_type": "markdown",
   "metadata": {},
   "source": [
    "## Results from Word2Vec\n",
    "### Most Similar Words\n",
    "Word2Vec has done the hard work of looking at every word in every reviewing, and figuring out how it relates to every other word. We can now use the train model to look at which words are similar to each other. We can use the 'most_similar' method for this:"
   ]
  },
  {
   "cell_type": "code",
   "execution_count": 30,
   "metadata": {},
   "outputs": [
    {
     "data": {
      "text/plain": [
       "[('energy', 0.8755673766136169),\n",
       " ('sturdy', 0.8264442682266235),\n",
       " ('decent', 0.8251634836196899),\n",
       " ('gripping', 0.8220580816268921),\n",
       " ('lending', 0.8150339722633362),\n",
       " ('tension', 0.8149839043617249),\n",
       " ('astringency', 0.8133258819580078),\n",
       " ('grippy', 0.8099431395530701),\n",
       " ('crunch', 0.8075447082519531),\n",
       " ('backbone', 0.807217001914978)]"
      ]
     },
     "execution_count": 30,
     "metadata": {},
     "output_type": "execute_result"
    }
   ],
   "source": [
    "wine2vec.wv.most_similar('grip')"
   ]
  },
  {
   "cell_type": "code",
   "execution_count": 31,
   "metadata": {},
   "outputs": [
    {
     "data": {
      "text/plain": [
       "[('buttery', 0.9079457521438599),\n",
       " ('bready', 0.8945122957229614),\n",
       " ('leesy', 0.8885785937309265),\n",
       " ('peachy', 0.8761761784553528),\n",
       " ('warming', 0.87123042345047),\n",
       " ('ends', 0.8668086528778076),\n",
       " ('sugary', 0.8646137714385986),\n",
       " ('dull', 0.8611634373664856),\n",
       " ('echo', 0.8596324920654297),\n",
       " ('melony', 0.8593854904174805)]"
      ]
     },
     "execution_count": 31,
     "metadata": {},
     "output_type": "execute_result"
    }
   ],
   "source": [
    "wine2vec.wv.most_similar('nutty')"
   ]
  },
  {
   "cell_type": "code",
   "execution_count": 32,
   "metadata": {},
   "outputs": [
    {
     "data": {
      "text/plain": [
       "[('marshmallow', 0.945315420627594),\n",
       " ('accompanies', 0.9438775777816772),\n",
       " ('peanut', 0.9384106397628784),\n",
       " ('wafer', 0.9363114833831787),\n",
       " ('resin', 0.9332039952278137),\n",
       " ('ham', 0.9314595460891724),\n",
       " ('pumpkin', 0.9313677549362183),\n",
       " ('flowing', 0.9292489886283875),\n",
       " ('balsam', 0.9274548888206482),\n",
       " ('suggestive', 0.9250581860542297)]"
      ]
     },
     "execution_count": 32,
     "metadata": {},
     "output_type": "execute_result"
    }
   ],
   "source": [
    "wine2vec.wv.most_similar('popcorn')"
   ]
  },
  {
   "cell_type": "code",
   "execution_count": 33,
   "metadata": {},
   "outputs": [
    {
     "data": {
      "text/plain": [
       "[('energy', 0.8652548789978027),\n",
       " ('healthy', 0.8616147637367249),\n",
       " ('acid', 0.8548575043678284),\n",
       " ('wiry', 0.8542773723602295),\n",
       " ('astringency', 0.8526881337165833),\n",
       " ('choppy', 0.8437875509262085),\n",
       " ('narrow', 0.8407387733459473),\n",
       " ('clipped', 0.8403691053390503),\n",
       " ('abrasive', 0.8389471769332886),\n",
       " ('textural', 0.838520348072052)]"
      ]
     },
     "execution_count": 33,
     "metadata": {},
     "output_type": "execute_result"
    }
   ],
   "source": [
    "wine2vec.wv.most_similar('acidic')"
   ]
  },
  {
   "cell_type": "code",
   "execution_count": 34,
   "metadata": {},
   "outputs": [
    {
     "data": {
      "text/plain": [
       "[('Full', 0.8538987636566162),\n",
       " ('generously', 0.7861971259117126),\n",
       " ('broadly', 0.7821114659309387),\n",
       " ('bold', 0.7763442993164062),\n",
       " ('robustly', 0.7744323015213013),\n",
       " ('richly', 0.7699888944625854),\n",
       " ('soothing', 0.7663235664367676),\n",
       " ('filling', 0.7661536335945129),\n",
       " ('solidly', 0.7657864093780518),\n",
       " ('luscious', 0.7656110525131226)]"
      ]
     },
     "execution_count": 34,
     "metadata": {},
     "output_type": "execute_result"
    }
   ],
   "source": [
    "wine2vec.wv.most_similar('full')"
   ]
  },
  {
   "cell_type": "code",
   "execution_count": 35,
   "metadata": {},
   "outputs": [
    {
     "data": {
      "text/plain": [
       "[('tannin', 0.7542928457260132),\n",
       " ('support', 0.7377289533615112),\n",
       " ('Firm', 0.7294570803642273),\n",
       " ('tannic', 0.7086830139160156),\n",
       " ('framework', 0.7004613280296326),\n",
       " ('grained', 0.7001125812530518),\n",
       " ('Structured', 0.6990479826927185),\n",
       " ('firm', 0.6921792030334473),\n",
       " ('Tannins', 0.685518205165863),\n",
       " ('grainy', 0.6804839968681335)]"
      ]
     },
     "execution_count": 35,
     "metadata": {},
     "output_type": "execute_result"
    }
   ],
   "source": [
    "wine2vec.wv.most_similar('tannins')"
   ]
  },
  {
   "cell_type": "markdown",
   "metadata": {},
   "source": [
    "##### Linear relationships between word pairs"
   ]
  },
  {
   "cell_type": "code",
   "execution_count": 38,
   "metadata": {},
   "outputs": [],
   "source": [
    "def nearest_similarity_cosmul(start1, end1, end2):\n",
    "    similarities = wine2vec.wv.most_similar_cosmul(\n",
    "        positive=[end2, start1],\n",
    "        negative=[end1]\n",
    "    )\n",
    "    start2 = similarities[0][0]\n",
    "    print(\"{start1} is related to {end1}, as {start2} is related to {end2}\".format(**locals()))\n",
    "    return start2"
   ]
  },
  {
   "cell_type": "code",
   "execution_count": 39,
   "metadata": {},
   "outputs": [
    {
     "name": "stdout",
     "output_type": "stream",
     "text": [
      "oak is related to vanilla, as yeast is related to butter\n"
     ]
    }
   ],
   "source": [
    "nearest_similarity_cosmul('oak', 'vanilla', 'butter');"
   ]
  },
  {
   "cell_type": "code",
   "execution_count": 40,
   "metadata": {},
   "outputs": [
    {
     "name": "stdout",
     "output_type": "stream",
     "text": [
      "clean is related to berry, as pure is related to cherry\n"
     ]
    }
   ],
   "source": [
    "nearest_similarity_cosmul('clean', 'berry', 'cherry');"
   ]
  },
  {
   "cell_type": "code",
   "execution_count": 41,
   "metadata": {},
   "outputs": [
    {
     "name": "stdout",
     "output_type": "stream",
     "text": [
      "tannins is related to plum, as bubbles is related to fresh\n"
     ]
    }
   ],
   "source": [
    "nearest_similarity_cosmul('tannins', 'plum', 'fresh');"
   ]
  },
  {
   "cell_type": "code",
   "execution_count": 42,
   "metadata": {
    "scrolled": true
   },
   "outputs": [
    {
     "name": "stdout",
     "output_type": "stream",
     "text": [
      "full is related to bodied, as healthy is related to acidic\n"
     ]
    }
   ],
   "source": [
    "nearest_similarity_cosmul('full', 'bodied', 'acidic');"
   ]
  },
  {
   "cell_type": "markdown",
   "metadata": {},
   "source": [
    "## Potential Applications\n",
    "\n",
    "We'll keep exploring the applications of this data, but I can already imagine it would be interesting to offer this as a service to people! Almost like a synonym generator when writing wine descriptions, or to describe relationships between different wines. "
   ]
  }
 ],
 "metadata": {
  "kernelspec": {
   "display_name": "Python 3",
   "language": "python",
   "name": "python3"
  },
  "language_info": {
   "codemirror_mode": {
    "name": "ipython",
    "version": 3
   },
   "file_extension": ".py",
   "mimetype": "text/x-python",
   "name": "python",
   "nbconvert_exporter": "python",
   "pygments_lexer": "ipython3",
   "version": "3.6.4"
  }
 },
 "nbformat": 4,
 "nbformat_minor": 2
}
