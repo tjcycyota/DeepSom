{
 "cells": [
  {
   "cell_type": "markdown",
   "metadata": {},
   "source": [
    "# DeepSom: Exploratory Data Analaysis \n",
    "### Notebook 1\n",
    "\n",
    "#### By TJ Cycyota\n",
    "##### Thanks to Zack Thoutt for inspiration\n",
    "\n",
    "### Hypothesis\n",
    "A neural network can be trained on wine data from Wine Spectator (scraped from winemag.com), including reviews, growing region, and price, to predict grape varietals.\n",
    "<img src=\"winemag_screenshot.png\" style=\"height: 300px;\">\n",
    "\n",
    "#### Input Data\n",
    "\n",
    "x rows \n",
    "\n",
    "y feature columns:\n",
    "    - Country \n",
    "    - Description (free-text)\n",
    "    - Designation\n",
    "    - Points (80-100 based on Wine Spectator score)\n",
    "    - Price\n",
    "    - Province \n",
    "    - Region 1\n",
    "    - Region 2\n",
    "    - Taster name (who contributed the review)\n",
    "    - Taster Twitter handle\n",
    "    - Title (of the wine)\n",
    "    - Variety\n",
    "    - Winery"
   ]
  },
  {
   "cell_type": "code",
   "execution_count": 1,
   "metadata": {
    "collapsed": false
   },
   "outputs": [
    {
     "name": "stderr",
     "output_type": "stream",
     "text": [
      "C:\\Users\\thomas.j.cycyota\\AppData\\Local\\Continuum\\Anaconda2\\lib\\site-packages\\gensim\\utils.py:1167: UserWarning: detected Windows; aliasing chunkize to chunkize_serial\n",
      "  warnings.warn(\"detected Windows; aliasing chunkize to chunkize_serial\")\n"
     ]
    },
    {
     "name": "stdout",
     "output_type": "stream",
     "text": [
      "[nltk_data] Downloading package punkt to\n",
      "[nltk_data]     C:\\Users\\thomas.j.cycyota\\AppData\\Roaming\\nltk_data...\n",
      "[nltk_data]   Package punkt is already up-to-date!\n"
     ]
    }
   ],
   "source": [
    "from collections import Counter\n",
    "import numpy as np\n",
    "import nltk\n",
    "import re\n",
    "import sklearn.manifold\n",
    "import multiprocessing\n",
    "import pandas as pd\n",
    "import gensim.models.word2vec as w2v\n",
    "import seaborn as sns\n",
    "%matplotlib inline\n",
    "\n",
    "nltk.download('punkt')\n",
    "\n",
    "from nltk import word_tokenize,sent_tokenize"
   ]
  },
  {
   "cell_type": "markdown",
   "metadata": {},
   "source": [
    "---\n",
    "\n",
    "### Load the Data\n",
    "The dataset can be found on [Kaggle](https://www.kaggle.com/zynicide/wine-reviews) or you can run Zack Thoutt's sraper on [Github](https://github.com/zackthoutt/wine-deep-learning). The script below is pulling a previously scraped dataset from local storage."
   ]
  },
  {
   "cell_type": "code",
   "execution_count": 2,
   "metadata": {
    "collapsed": false
   },
   "outputs": [],
   "source": [
    "data = pd.read_json('winemag-data.json', dtype={\n",
    "    'points': np.int32,\n",
    "    'price': np.float32,\n",
    "})"
   ]
  },
  {
   "cell_type": "code",
   "execution_count": 3,
   "metadata": {
    "collapsed": false,
    "scrolled": true
   },
   "outputs": [
    {
     "data": {
      "text/html": [
       "<div>\n",
       "<style>\n",
       "    .dataframe thead tr:only-child th {\n",
       "        text-align: right;\n",
       "    }\n",
       "\n",
       "    .dataframe thead th {\n",
       "        text-align: left;\n",
       "    }\n",
       "\n",
       "    .dataframe tbody tr th {\n",
       "        vertical-align: top;\n",
       "    }\n",
       "</style>\n",
       "<table border=\"1\" class=\"dataframe\">\n",
       "  <thead>\n",
       "    <tr style=\"text-align: right;\">\n",
       "      <th></th>\n",
       "      <th>country</th>\n",
       "      <th>description</th>\n",
       "      <th>designation</th>\n",
       "      <th>points</th>\n",
       "      <th>price</th>\n",
       "      <th>province</th>\n",
       "      <th>region_1</th>\n",
       "      <th>region_2</th>\n",
       "      <th>taster_name</th>\n",
       "      <th>taster_twitter_handle</th>\n",
       "      <th>title</th>\n",
       "      <th>variety</th>\n",
       "      <th>winery</th>\n",
       "    </tr>\n",
       "  </thead>\n",
       "  <tbody>\n",
       "    <tr>\n",
       "      <th>0</th>\n",
       "      <td>France</td>\n",
       "      <td>This Chardonnay-based wine, with 10% Chenin Bl...</td>\n",
       "      <td>None</td>\n",
       "      <td>87</td>\n",
       "      <td>10.0</td>\n",
       "      <td>Languedoc-Roussillon</td>\n",
       "      <td>Pays d'Oc</td>\n",
       "      <td>None</td>\n",
       "      <td>Lauren Buzzeo</td>\n",
       "      <td>@laurbuzz</td>\n",
       "      <td>Domaine Rives-Blanques 2016 White (Pays d'Oc)</td>\n",
       "      <td>White Blend</td>\n",
       "      <td>Domaine Rives-Blanques</td>\n",
       "    </tr>\n",
       "    <tr>\n",
       "      <th>1</th>\n",
       "      <td>France</td>\n",
       "      <td>Wood aromas and spice show strongly in this wi...</td>\n",
       "      <td>Domaine de la Ferté</td>\n",
       "      <td>87</td>\n",
       "      <td>35.0</td>\n",
       "      <td>Burgundy</td>\n",
       "      <td>Givry</td>\n",
       "      <td>None</td>\n",
       "      <td>Roger Voss</td>\n",
       "      <td>@vossroger</td>\n",
       "      <td>Domaines Devillard 2015 Domaine de la Ferté  (...</td>\n",
       "      <td>Pinot Noir</td>\n",
       "      <td>Domaines Devillard</td>\n",
       "    </tr>\n",
       "    <tr>\n",
       "      <th>2</th>\n",
       "      <td>France</td>\n",
       "      <td>Showcasing the rich vintage, this is a generou...</td>\n",
       "      <td>Le Renard</td>\n",
       "      <td>87</td>\n",
       "      <td>23.0</td>\n",
       "      <td>Burgundy</td>\n",
       "      <td>Bourgogne</td>\n",
       "      <td>None</td>\n",
       "      <td>Roger Voss</td>\n",
       "      <td>@vossroger</td>\n",
       "      <td>Domaines Devillard 2015 Le Renard  (Bourgogne)</td>\n",
       "      <td>Pinot Noir</td>\n",
       "      <td>Domaines Devillard</td>\n",
       "    </tr>\n",
       "    <tr>\n",
       "      <th>3</th>\n",
       "      <td>France</td>\n",
       "      <td>This large appellation in the Côte Chalonnaise...</td>\n",
       "      <td>Laurent Dufouleur Château Mi-Pont</td>\n",
       "      <td>87</td>\n",
       "      <td>40.0</td>\n",
       "      <td>Burgundy</td>\n",
       "      <td>Mercurey</td>\n",
       "      <td>None</td>\n",
       "      <td>Roger Voss</td>\n",
       "      <td>@vossroger</td>\n",
       "      <td>L. Tramier &amp; Fils 2015 Laurent Dufouleur Châte...</td>\n",
       "      <td>Pinot Noir</td>\n",
       "      <td>L. Tramier &amp; Fils</td>\n",
       "    </tr>\n",
       "    <tr>\n",
       "      <th>4</th>\n",
       "      <td>France</td>\n",
       "      <td>This tangy, ripe and fruity wine is crisp with...</td>\n",
       "      <td>None</td>\n",
       "      <td>87</td>\n",
       "      <td>19.0</td>\n",
       "      <td>Burgundy</td>\n",
       "      <td>Mâcon-Villages</td>\n",
       "      <td>None</td>\n",
       "      <td>Roger Voss</td>\n",
       "      <td>@vossroger</td>\n",
       "      <td>Louis Max 2016  Mâcon-Villages</td>\n",
       "      <td>Chardonnay</td>\n",
       "      <td>Louis Max</td>\n",
       "    </tr>\n",
       "    <tr>\n",
       "      <th>5</th>\n",
       "      <td>US</td>\n",
       "      <td>Crisp apple perfume builds on the palate, sugg...</td>\n",
       "      <td>Semi-Dry</td>\n",
       "      <td>87</td>\n",
       "      <td>15.0</td>\n",
       "      <td>New York</td>\n",
       "      <td>Finger Lakes</td>\n",
       "      <td>Finger Lakes</td>\n",
       "      <td>Anna Lee C. Iijima</td>\n",
       "      <td>None</td>\n",
       "      <td>Highland Cellars 2015 Semi-Dry Riesling (Finge...</td>\n",
       "      <td>Riesling</td>\n",
       "      <td>Highland Cellars</td>\n",
       "    </tr>\n",
       "    <tr>\n",
       "      <th>6</th>\n",
       "      <td>US</td>\n",
       "      <td>The freshness and concentration of the fruit f...</td>\n",
       "      <td>None</td>\n",
       "      <td>87</td>\n",
       "      <td>25.0</td>\n",
       "      <td>California</td>\n",
       "      <td>Lodi</td>\n",
       "      <td>Central Valley</td>\n",
       "      <td>Jim Gordon</td>\n",
       "      <td>@gordone_cellars</td>\n",
       "      <td>Infidel 2014 Zinfandel (Lodi)</td>\n",
       "      <td>Zinfandel</td>\n",
       "      <td>Infidel</td>\n",
       "    </tr>\n",
       "    <tr>\n",
       "      <th>7</th>\n",
       "      <td>France</td>\n",
       "      <td>Crisp apple aromas lead to a spicy, yellow and...</td>\n",
       "      <td>None</td>\n",
       "      <td>87</td>\n",
       "      <td>18.0</td>\n",
       "      <td>Burgundy</td>\n",
       "      <td>Bourgogne</td>\n",
       "      <td>None</td>\n",
       "      <td>Roger Voss</td>\n",
       "      <td>@vossroger</td>\n",
       "      <td>Domaine Bernard Moreau 2016  Bourgogne</td>\n",
       "      <td>Chardonnay</td>\n",
       "      <td>Domaine Bernard Moreau</td>\n",
       "    </tr>\n",
       "    <tr>\n",
       "      <th>8</th>\n",
       "      <td>France</td>\n",
       "      <td>A crisp, tangy and mineral-driven wine, this i...</td>\n",
       "      <td>La Belouse</td>\n",
       "      <td>87</td>\n",
       "      <td>20.0</td>\n",
       "      <td>Burgundy</td>\n",
       "      <td>Mâcon-Cruzille</td>\n",
       "      <td>None</td>\n",
       "      <td>Roger Voss</td>\n",
       "      <td>@vossroger</td>\n",
       "      <td>Domaine de l'Echelette 2016 La Belouse  (Mâcon...</td>\n",
       "      <td>Chardonnay</td>\n",
       "      <td>Domaine de l'Echelette</td>\n",
       "    </tr>\n",
       "    <tr>\n",
       "      <th>9</th>\n",
       "      <td>Italy</td>\n",
       "      <td>Oak-driven spice, camphor and coconut aromas l...</td>\n",
       "      <td>Riserva</td>\n",
       "      <td>87</td>\n",
       "      <td>NaN</td>\n",
       "      <td>Piedmont</td>\n",
       "      <td>Barbaresco</td>\n",
       "      <td>None</td>\n",
       "      <td>Kerin O’Keefe</td>\n",
       "      <td>@kerinokeefe</td>\n",
       "      <td>Sassi San Cristoforo 2012 Riserva  (Barbaresco)</td>\n",
       "      <td>Nebbiolo</td>\n",
       "      <td>Sassi San Cristoforo</td>\n",
       "    </tr>\n",
       "    <tr>\n",
       "      <th>10</th>\n",
       "      <td>US</td>\n",
       "      <td>It's very difficult to rate this unusual bottl...</td>\n",
       "      <td>Pleiades XXV Old Vines</td>\n",
       "      <td>87</td>\n",
       "      <td>24.0</td>\n",
       "      <td>California</td>\n",
       "      <td>California</td>\n",
       "      <td>California Other</td>\n",
       "      <td>Jim Gordon</td>\n",
       "      <td>@gordone_cellars</td>\n",
       "      <td>Sean Thackrey NV Pleiades XXV Old Vines Red (C...</td>\n",
       "      <td>Rhône-style Red Blend</td>\n",
       "      <td>Sean Thackrey</td>\n",
       "    </tr>\n",
       "    <tr>\n",
       "      <th>11</th>\n",
       "      <td>US</td>\n",
       "      <td>This is a great value for a wine from the cele...</td>\n",
       "      <td>Special Reserve</td>\n",
       "      <td>87</td>\n",
       "      <td>12.0</td>\n",
       "      <td>California</td>\n",
       "      <td>Amador County</td>\n",
       "      <td>Sierra Foothills</td>\n",
       "      <td>Jim Gordon</td>\n",
       "      <td>@gordone_cellars</td>\n",
       "      <td>Shenandoah Vineyards 2015 Special Reserve Zinf...</td>\n",
       "      <td>Zinfandel</td>\n",
       "      <td>Shenandoah Vineyards</td>\n",
       "    </tr>\n",
       "    <tr>\n",
       "      <th>12</th>\n",
       "      <td>France</td>\n",
       "      <td>A touch of wood aging gives this wine richness...</td>\n",
       "      <td>Buissonnier</td>\n",
       "      <td>87</td>\n",
       "      <td>19.0</td>\n",
       "      <td>Burgundy</td>\n",
       "      <td>Bourgogne</td>\n",
       "      <td>None</td>\n",
       "      <td>Roger Voss</td>\n",
       "      <td>@vossroger</td>\n",
       "      <td>Vignerons de Buxy 2015 Buissonnier  (Bourgogne)</td>\n",
       "      <td>Chardonnay</td>\n",
       "      <td>Vignerons de Buxy</td>\n",
       "    </tr>\n",
       "    <tr>\n",
       "      <th>13</th>\n",
       "      <td>US</td>\n",
       "      <td>Fresh tangerine, green melon and lime abound i...</td>\n",
       "      <td>Lonesome Stony Estate Reserve</td>\n",
       "      <td>87</td>\n",
       "      <td>12.0</td>\n",
       "      <td>New York</td>\n",
       "      <td>Finger Lakes</td>\n",
       "      <td>Finger Lakes</td>\n",
       "      <td>Anna Lee C. Iijima</td>\n",
       "      <td>None</td>\n",
       "      <td>Three Brothers 2016 Lonesome Stony Estate Rese...</td>\n",
       "      <td>Grüner Veltliner</td>\n",
       "      <td>Three Brothers</td>\n",
       "    </tr>\n",
       "    <tr>\n",
       "      <th>14</th>\n",
       "      <td>US</td>\n",
       "      <td>This wine's sawdust, green herb, vanilla and s...</td>\n",
       "      <td>Signature Series Raptor</td>\n",
       "      <td>87</td>\n",
       "      <td>65.0</td>\n",
       "      <td>Washington</td>\n",
       "      <td>Yakima Valley</td>\n",
       "      <td>Columbia Valley</td>\n",
       "      <td>Sean P. Sullivan</td>\n",
       "      <td>@wawinereport</td>\n",
       "      <td>Kestrel 2013 Signature Series Raptor Red (Yaki...</td>\n",
       "      <td>Bordeaux-style Red Blend</td>\n",
       "      <td>Kestrel</td>\n",
       "    </tr>\n",
       "  </tbody>\n",
       "</table>\n",
       "</div>"
      ],
      "text/plain": [
       "   country                                        description  \\\n",
       "0   France  This Chardonnay-based wine, with 10% Chenin Bl...   \n",
       "1   France  Wood aromas and spice show strongly in this wi...   \n",
       "2   France  Showcasing the rich vintage, this is a generou...   \n",
       "3   France  This large appellation in the Côte Chalonnaise...   \n",
       "4   France  This tangy, ripe and fruity wine is crisp with...   \n",
       "5       US  Crisp apple perfume builds on the palate, sugg...   \n",
       "6       US  The freshness and concentration of the fruit f...   \n",
       "7   France  Crisp apple aromas lead to a spicy, yellow and...   \n",
       "8   France  A crisp, tangy and mineral-driven wine, this i...   \n",
       "9    Italy  Oak-driven spice, camphor and coconut aromas l...   \n",
       "10      US  It's very difficult to rate this unusual bottl...   \n",
       "11      US  This is a great value for a wine from the cele...   \n",
       "12  France  A touch of wood aging gives this wine richness...   \n",
       "13      US  Fresh tangerine, green melon and lime abound i...   \n",
       "14      US  This wine's sawdust, green herb, vanilla and s...   \n",
       "\n",
       "                          designation  points  price              province  \\\n",
       "0                                None      87   10.0  Languedoc-Roussillon   \n",
       "1                 Domaine de la Ferté      87   35.0              Burgundy   \n",
       "2                           Le Renard      87   23.0              Burgundy   \n",
       "3   Laurent Dufouleur Château Mi-Pont      87   40.0              Burgundy   \n",
       "4                                None      87   19.0              Burgundy   \n",
       "5                            Semi-Dry      87   15.0              New York   \n",
       "6                                None      87   25.0            California   \n",
       "7                                None      87   18.0              Burgundy   \n",
       "8                          La Belouse      87   20.0              Burgundy   \n",
       "9                             Riserva      87    NaN              Piedmont   \n",
       "10             Pleiades XXV Old Vines      87   24.0            California   \n",
       "11                    Special Reserve      87   12.0            California   \n",
       "12                        Buissonnier      87   19.0              Burgundy   \n",
       "13      Lonesome Stony Estate Reserve      87   12.0              New York   \n",
       "14            Signature Series Raptor      87   65.0            Washington   \n",
       "\n",
       "          region_1          region_2         taster_name  \\\n",
       "0        Pays d'Oc              None       Lauren Buzzeo   \n",
       "1            Givry              None          Roger Voss   \n",
       "2        Bourgogne              None          Roger Voss   \n",
       "3         Mercurey              None          Roger Voss   \n",
       "4   Mâcon-Villages              None          Roger Voss   \n",
       "5     Finger Lakes      Finger Lakes  Anna Lee C. Iijima   \n",
       "6             Lodi    Central Valley          Jim Gordon   \n",
       "7        Bourgogne              None          Roger Voss   \n",
       "8   Mâcon-Cruzille              None          Roger Voss   \n",
       "9       Barbaresco              None       Kerin O’Keefe   \n",
       "10      California  California Other          Jim Gordon   \n",
       "11   Amador County  Sierra Foothills          Jim Gordon   \n",
       "12       Bourgogne              None          Roger Voss   \n",
       "13    Finger Lakes      Finger Lakes  Anna Lee C. Iijima   \n",
       "14   Yakima Valley   Columbia Valley    Sean P. Sullivan   \n",
       "\n",
       "   taster_twitter_handle                                              title  \\\n",
       "0              @laurbuzz      Domaine Rives-Blanques 2016 White (Pays d'Oc)   \n",
       "1             @vossroger  Domaines Devillard 2015 Domaine de la Ferté  (...   \n",
       "2             @vossroger     Domaines Devillard 2015 Le Renard  (Bourgogne)   \n",
       "3             @vossroger  L. Tramier & Fils 2015 Laurent Dufouleur Châte...   \n",
       "4             @vossroger                     Louis Max 2016  Mâcon-Villages   \n",
       "5                   None  Highland Cellars 2015 Semi-Dry Riesling (Finge...   \n",
       "6       @gordone_cellars                      Infidel 2014 Zinfandel (Lodi)   \n",
       "7             @vossroger             Domaine Bernard Moreau 2016  Bourgogne   \n",
       "8             @vossroger  Domaine de l'Echelette 2016 La Belouse  (Mâcon...   \n",
       "9           @kerinokeefe    Sassi San Cristoforo 2012 Riserva  (Barbaresco)   \n",
       "10      @gordone_cellars  Sean Thackrey NV Pleiades XXV Old Vines Red (C...   \n",
       "11      @gordone_cellars  Shenandoah Vineyards 2015 Special Reserve Zinf...   \n",
       "12            @vossroger    Vignerons de Buxy 2015 Buissonnier  (Bourgogne)   \n",
       "13                  None  Three Brothers 2016 Lonesome Stony Estate Rese...   \n",
       "14         @wawinereport  Kestrel 2013 Signature Series Raptor Red (Yaki...   \n",
       "\n",
       "                     variety                  winery  \n",
       "0                White Blend  Domaine Rives-Blanques  \n",
       "1                 Pinot Noir      Domaines Devillard  \n",
       "2                 Pinot Noir      Domaines Devillard  \n",
       "3                 Pinot Noir       L. Tramier & Fils  \n",
       "4                 Chardonnay               Louis Max  \n",
       "5                   Riesling        Highland Cellars  \n",
       "6                  Zinfandel                 Infidel  \n",
       "7                 Chardonnay  Domaine Bernard Moreau  \n",
       "8                 Chardonnay  Domaine de l'Echelette  \n",
       "9                   Nebbiolo    Sassi San Cristoforo  \n",
       "10     Rhône-style Red Blend           Sean Thackrey  \n",
       "11                 Zinfandel    Shenandoah Vineyards  \n",
       "12                Chardonnay       Vignerons de Buxy  \n",
       "13          Grüner Veltliner          Three Brothers  \n",
       "14  Bordeaux-style Red Blend                 Kestrel  "
      ]
     },
     "execution_count": 3,
     "metadata": {},
     "output_type": "execute_result"
    }
   ],
   "source": [
    "data.head(15)"
   ]
  },
  {
   "cell_type": "code",
   "execution_count": 4,
   "metadata": {
    "collapsed": false
   },
   "outputs": [
    {
     "data": {
      "text/plain": [
       "(12895, 13)"
      ]
     },
     "execution_count": 4,
     "metadata": {},
     "output_type": "execute_result"
    }
   ],
   "source": [
    "data.shape"
   ]
  },
  {
   "cell_type": "code",
   "execution_count": 5,
   "metadata": {
    "collapsed": false,
    "scrolled": true
   },
   "outputs": [
    {
     "data": {
      "text/html": [
       "<div>\n",
       "<style>\n",
       "    .dataframe thead tr:only-child th {\n",
       "        text-align: right;\n",
       "    }\n",
       "\n",
       "    .dataframe thead th {\n",
       "        text-align: left;\n",
       "    }\n",
       "\n",
       "    .dataframe tbody tr th {\n",
       "        vertical-align: top;\n",
       "    }\n",
       "</style>\n",
       "<table border=\"1\" class=\"dataframe\">\n",
       "  <thead>\n",
       "    <tr style=\"text-align: right;\">\n",
       "      <th></th>\n",
       "      <th>points</th>\n",
       "      <th>price</th>\n",
       "    </tr>\n",
       "  </thead>\n",
       "  <tbody>\n",
       "    <tr>\n",
       "      <th>count</th>\n",
       "      <td>12895.00000</td>\n",
       "      <td>12213.000000</td>\n",
       "    </tr>\n",
       "    <tr>\n",
       "      <th>mean</th>\n",
       "      <td>89.58356</td>\n",
       "      <td>40.185047</td>\n",
       "    </tr>\n",
       "    <tr>\n",
       "      <th>std</th>\n",
       "      <td>2.98751</td>\n",
       "      <td>45.770260</td>\n",
       "    </tr>\n",
       "    <tr>\n",
       "      <th>min</th>\n",
       "      <td>80.00000</td>\n",
       "      <td>4.000000</td>\n",
       "    </tr>\n",
       "    <tr>\n",
       "      <th>25%</th>\n",
       "      <td>87.00000</td>\n",
       "      <td>20.000000</td>\n",
       "    </tr>\n",
       "    <tr>\n",
       "      <th>50%</th>\n",
       "      <td>90.00000</td>\n",
       "      <td>30.000000</td>\n",
       "    </tr>\n",
       "    <tr>\n",
       "      <th>75%</th>\n",
       "      <td>92.00000</td>\n",
       "      <td>48.000000</td>\n",
       "    </tr>\n",
       "    <tr>\n",
       "      <th>max</th>\n",
       "      <td>100.00000</td>\n",
       "      <td>1116.000000</td>\n",
       "    </tr>\n",
       "  </tbody>\n",
       "</table>\n",
       "</div>"
      ],
      "text/plain": [
       "            points         price\n",
       "count  12895.00000  12213.000000\n",
       "mean      89.58356     40.185047\n",
       "std        2.98751     45.770260\n",
       "min       80.00000      4.000000\n",
       "25%       87.00000     20.000000\n",
       "50%       90.00000     30.000000\n",
       "75%       92.00000     48.000000\n",
       "max      100.00000   1116.000000"
      ]
     },
     "execution_count": 5,
     "metadata": {},
     "output_type": "execute_result"
    }
   ],
   "source": [
    "data.describe()"
   ]
  },
  {
   "cell_type": "code",
   "execution_count": null,
   "metadata": {
    "collapsed": true
   },
   "outputs": [],
   "source": []
  },
  {
   "cell_type": "markdown",
   "metadata": {},
   "source": [
    "### Break data into Labels and Descriptions\n",
    "\n",
    "This will allow us to explore the different wine varieties included in the dataset, and will come in handy later in the notebook for Word2Vec implementation."
   ]
  },
  {
   "cell_type": "code",
   "execution_count": 6,
   "metadata": {
    "collapsed": true
   },
   "outputs": [],
   "source": [
    "labels = data['variety']\n",
    "descriptions = data['description']"
   ]
  },
  {
   "cell_type": "code",
   "execution_count": 7,
   "metadata": {
    "collapsed": false,
    "scrolled": true
   },
   "outputs": [
    {
     "data": {
      "text/plain": [
       "Verdejo-Viura      1\n",
       "Juhfark            1\n",
       "Feteascǎ Regalǎ    1\n",
       "Diamond            1\n",
       "Bobal              1\n",
       "Name: variety, dtype: int64"
      ]
     },
     "execution_count": 7,
     "metadata": {},
     "output_type": "execute_result"
    }
   ],
   "source": [
    "#variety_list = data.groupby('variety')['title'].nunique()\n",
    "variety_list = data.variety.value_counts()\n",
    "variety_list.tail()"
   ]
  },
  {
   "cell_type": "markdown",
   "metadata": {},
   "source": [
    "Seems like we have some less common wine varieties in this data! Turns out \"Feteascǎ Regalǎ\" is from Romania, and \"Juhfark\" is from Hungary. Already learning something new! After doing a sum on the variety_list, we can see that every row of data is labeled with a variety, and there are quite a few different varieties. "
   ]
  },
  {
   "cell_type": "code",
   "execution_count": 8,
   "metadata": {
    "collapsed": false
   },
   "outputs": [
    {
     "data": {
      "text/plain": [
       "12895"
      ]
     },
     "execution_count": 8,
     "metadata": {},
     "output_type": "execute_result"
    }
   ],
   "source": [
    "variety_list.sum()"
   ]
  },
  {
   "cell_type": "code",
   "execution_count": 9,
   "metadata": {
    "collapsed": false
   },
   "outputs": [
    {
     "data": {
      "text/plain": [
       "319"
      ]
     },
     "execution_count": 9,
     "metadata": {},
     "output_type": "execute_result"
    }
   ],
   "source": [
    "data.variety.nunique()"
   ]
  },
  {
   "cell_type": "markdown",
   "metadata": {},
   "source": [
    "### Explore the Data\n",
    "There are several hundred fairly common varietals of wine and probably thousands of other niche varietals. It will be difficult to be able to identify them all, but I hypothesize that it should be possible to classify the most common, say, 50 or 100 wine varietals with this wine review dataset. \n",
    "\n",
    "Let's take a look at a few reviews and see if we as humans can tell a difference in the descriptive words used for different types of wine."
   ]
  },
  {
   "cell_type": "code",
   "execution_count": 10,
   "metadata": {
    "collapsed": false,
    "scrolled": true
   },
   "outputs": [
    {
     "name": "stdout",
     "output_type": "stream",
     "text": [
      "Zinfandel   :   This is a great value for a wine from the celebrated Amador region. Aromas like strawberry jam and brown sugar lead to very ripe and fruity flavors in this full-bodied but lively wine. It's fun to sip and doesn't try for a serious profile or heavy texture.\n",
      " \n",
      "Red Blend   :   This opens with aromas of oak, blackberry and baking spice. The dense, taut palate shows black currant, toast and vanilla alongside tightly wound tannins. Drink through 2020.\n",
      " \n",
      "Sparkling Blend   :   Dry and nicely mature, this complex wine is always among California's best bubblies. It combines great balance, tiny bubbles and some very interesting flavors that make it as appealing as a well-cellared white Burgundy at its peak. Hints of toast, butter and almond fill the aroma, and lemon, crisp apple and baking spices fill the palate. It has lively acidity that's softened by a good sense of body.\n"
     ]
    }
   ],
   "source": [
    "print('{}   :   {}'.format(labels.tolist()[11], descriptions.tolist()[11]))\n",
    "print(' ')\n",
    "print('{}   :   {}'.format(labels.tolist()[100], descriptions.tolist()[100]))\n",
    "print(' ')\n",
    "print('{}   :   {}'.format(labels.tolist()[1000], descriptions.tolist()[1000]))"
   ]
  },
  {
   "cell_type": "markdown",
   "metadata": {},
   "source": [
    "Seems to be c\n",
    "\n",
    "Even if you're not someone who knows wine, I think that there is a pretty clear distinction in the descriptions of these different types of wines. The Cabernet Sauvignon (a red wine) was described with words like cherry, tannin and carmel. The next two reviews are white wines, but even they show differences in their description. The sauvignon blanc is described as minerally, citrus, and green fruits while the chardonnay is described as smokey, earthy, crisp-apple, and buttery. This provides us with good motivation to move forward and explore the data more.\n",
    "\n",
    "One of the limitations that I think we will have with this dataset is that there will be a lot more reviews for popular wine varietals than less popular wine varietals. This isn't bad neccissarily, but it means that we will probably only be able to classify the most popular N varietals."
   ]
  },
  {
   "cell_type": "code",
   "execution_count": null,
   "metadata": {
    "collapsed": true
   },
   "outputs": [],
   "source": []
  },
  {
   "cell_type": "code",
   "execution_count": 11,
   "metadata": {
    "collapsed": false
   },
   "outputs": [
    {
     "name": "stdout",
     "output_type": "stream",
     "text": [
      "Pinot Noir                    1762\n",
      "Chardonnay                    1212\n",
      "Bordeaux-style Red Blend       986\n",
      "Red Blend                      933\n",
      "Cabernet Sauvignon             721\n",
      "Riesling                       636\n",
      "Sparkling Blend                418\n",
      "Sauvignon Blanc                364\n",
      "Gamay                          363\n",
      "Syrah                          326\n",
      "Nebbiolo                       300\n",
      "Portuguese Red                 221\n",
      "Merlot                         213\n",
      "Glera                          197\n",
      "Rosé                           187\n",
      "White Blend                    184\n",
      "Zinfandel                      181\n",
      "Malbec                         173\n",
      "Rhône-style Red Blend          157\n",
      "Sangiovese                     148\n",
      "Cabernet Franc                 145\n",
      "Champagne Blend                143\n",
      "Tempranillo                    142\n",
      "Pinot Gris                     138\n",
      "Grüner Veltliner               116\n",
      "Bordeaux-style White Blend     115\n",
      "Grenache                       114\n",
      "Barbera                        106\n",
      "Petite Sirah                    95\n",
      "Portuguese White                89\n",
      "Viognier                        86\n",
      "Shiraz                          81\n",
      "Gewürztraminer                  75\n",
      "Pinot Blanc                     74\n",
      "Chenin Blanc                    66\n",
      "Albariño                        62\n",
      "Port                            56\n",
      "Rhône-style White Blend         53\n",
      "Carmenère                       51\n",
      "Melon                           41\n",
      "Primitivo                       38\n",
      "Tannat                          37\n",
      "Garnacha                        35\n",
      "Pinot Grigio                    33\n",
      "Petit Verdot                    32\n",
      "Mourvèdre                       31\n",
      "Verdejo                         30\n",
      "G-S-M                           29\n",
      "Alsace white blend              29\n",
      "Blaufränkisch                   29\n",
      "Name: variety, dtype: int64\n"
     ]
    }
   ],
   "source": [
    "varietal_counts = labels.value_counts()\n",
    "print(varietal_counts[:50])"
   ]
  },
  {
   "cell_type": "markdown",
   "metadata": {},
   "source": [
    "If you drink wine regularly you will probably recognize the most reviewed wines listed above. The value counts for different wine varietals does verify my theory that less popular wines might not have enough reviews to classify them. The most popular wine varietals have thousands of reviews, but even towards the bottom end of the top 50 wine varietals there are only a few hundred reviews. This isn't a problem for building a word2vec model like we are going to do next, but it is something to keep in mind as we move forward trying to create a wine classifier."
   ]
  },
  {
   "cell_type": "markdown",
   "metadata": {},
   "source": [
    "### Word2Vec Model\n",
    "##### Formatting the Data\n",
    "In order to train a word2vec model, all of the description data will need to be concatenated into one giant string. "
   ]
  },
  {
   "cell_type": "code",
   "execution_count": 12,
   "metadata": {
    "collapsed": true
   },
   "outputs": [],
   "source": [
    "corpus_raw = \"\"\n",
    "for description in descriptions:\n",
    "    corpus_raw += description"
   ]
  },
  {
   "cell_type": "markdown",
   "metadata": {},
   "source": [
    "Next, we need to tokenize the wine corpus using NLTK. This process will essentially break the word corpus into an array of sentences and then break each sentence into an array of words stripping out less usefull characters like commas and hyphens in the process. In this way, we are able to train the word2vec model with the context of sentences and relative word placement. "
   ]
  },
  {
   "cell_type": "code",
   "execution_count": 13,
   "metadata": {
    "collapsed": false,
    "scrolled": true
   },
   "outputs": [
    {
     "name": "stdout",
     "output_type": "stream",
     "text": [
      "<nltk.tokenize.punkt.PunktSentenceTokenizer object at 0x0000000013501518>\n"
     ]
    }
   ],
   "source": [
    "tokenizer = nltk.data.load('tokenizers/punkt/english.pickle')\n",
    "print(tokenizer)"
   ]
  },
  {
   "cell_type": "code",
   "execution_count": 14,
   "metadata": {
    "collapsed": false
   },
   "outputs": [],
   "source": [
    "raw_sentences = tokenizer.tokenize(corpus_raw)\n"
   ]
  },
  {
   "cell_type": "code",
   "execution_count": 15,
   "metadata": {
    "collapsed": true
   },
   "outputs": [],
   "source": [
    "def sentence_to_wordlist(raw):\n",
    "    clean = re.sub(\"[^a-zA-Z]\",\" \", raw)\n",
    "    words = clean.split()\n",
    "    return words"
   ]
  },
  {
   "cell_type": "code",
   "execution_count": 16,
   "metadata": {
    "collapsed": true
   },
   "outputs": [],
   "source": [
    "sentences = []\n",
    "for raw_sentence in raw_sentences:\n",
    "    if len(raw_sentence) > 0:\n",
    "        sentences.append(sentence_to_wordlist(raw_sentence))"
   ]
  },
  {
   "cell_type": "code",
   "execution_count": 17,
   "metadata": {
    "collapsed": false
   },
   "outputs": [
    {
     "name": "stdout",
     "output_type": "stream",
     "text": [
      "The rustic sensation carries over to the palate along with a bitter note.\n",
      "[u'The', u'rustic', u'sensation', u'carries', u'over', u'to', u'the', u'palate', u'along', u'with', u'a', u'bitter', u'note']\n"
     ]
    }
   ],
   "source": [
    "print(raw_sentences[150])\n",
    "print(sentence_to_wordlist(raw_sentences[150]))"
   ]
  },
  {
   "cell_type": "code",
   "execution_count": 18,
   "metadata": {
    "collapsed": false
   },
   "outputs": [
    {
     "name": "stdout",
     "output_type": "stream",
     "text": [
      "The wine corpus contains 551,287 tokens\n"
     ]
    }
   ],
   "source": [
    "token_count = sum([len(sentence) for sentence in sentences])\n",
    "print('The wine corpus contains {0:,} tokens'.format(token_count))"
   ]
  },
  {
   "cell_type": "markdown",
   "metadata": {},
   "source": [
    "For some context, all of the GOT books combined make up only ~1,800,000 tokens, so this dataset is nearly 4x as large as the GOT book series.\n",
    "\n",
    "##### Training the Model\n",
    "It took some experimenting to get the model to train well. The main things hyperparameters that I had to tune were `min_word_count` and `context_size`. \n",
    "\n",
    "I usually train word2vec models with a `min_word_count` closer to 3-5, but since this dataset is so large I had to bump it up to 10. When I was training the model on a smaller `min_word_count` I was getting a lot of winery and vinyard noise in my word similarities (ie the words most similar to \"cherry\" were a bunch of foreign vinyards, wineries, regions, etc.). After looking through some of the descriptions I came to the conclusion that most of the wine descriptions don't mention the wine varietal, vinyard, or winery, but some do. So I played with the `min_word_count` until those rare instances had less of an effect on the model.\n",
    "\n",
    "I also had to play with the `context_size` quite a bit. 10 is a pretty large context size, but it makes sense here because really all of the words in a sentence are related to each other in the context of wine descriptions and what were are trying to accomplish. I might even experiment with bumping the `context_size` up higher at some point, but even now most of the words in each sentence will be associated with each other in the model."
   ]
  },
  {
   "cell_type": "code",
   "execution_count": 19,
   "metadata": {
    "collapsed": false
   },
   "outputs": [],
   "source": [
    "num_features = 300\n",
    "min_word_count = 1\n",
    "num_workers = multiprocessing.cpu_count()\n",
    "context_size = 5\n",
    "downsampling = 1e-3\n",
    "seed=1993"
   ]
  },
  {
   "cell_type": "code",
   "execution_count": 20,
   "metadata": {
    "collapsed": true
   },
   "outputs": [],
   "source": [
    "wine2vec = w2v.Word2Vec(\n",
    "    sg=1,\n",
    "    seed=seed,\n",
    "    workers=num_workers,\n",
    "    size=num_features,\n",
    "    min_count=min_word_count,\n",
    "    window=context_size,\n",
    "    sample=downsampling\n",
    ")"
   ]
  },
  {
   "cell_type": "code",
   "execution_count": 21,
   "metadata": {
    "collapsed": true
   },
   "outputs": [],
   "source": [
    "wine2vec.build_vocab(sentences)"
   ]
  },
  {
   "cell_type": "code",
   "execution_count": 22,
   "metadata": {
    "collapsed": false
   },
   "outputs": [
    {
     "name": "stdout",
     "output_type": "stream",
     "text": [
      "('Word2Vec vocabulary length:', 12149)\n"
     ]
    }
   ],
   "source": [
    "print('Word2Vec vocabulary length:', len(wine2vec.wv.vocab))"
   ]
  },
  {
   "cell_type": "code",
   "execution_count": 23,
   "metadata": {
    "collapsed": false
   },
   "outputs": [
    {
     "name": "stdout",
     "output_type": "stream",
     "text": [
      "24106\n"
     ]
    }
   ],
   "source": [
    "print(wine2vec.corpus_count)"
   ]
  },
  {
   "cell_type": "code",
   "execution_count": 24,
   "metadata": {
    "collapsed": false
   },
   "outputs": [
    {
     "name": "stderr",
     "output_type": "stream",
     "text": [
      "C:\\Users\\thomas.j.cycyota\\AppData\\Local\\Continuum\\Anaconda2\\lib\\site-packages\\ipykernel\\__main__.py:1: DeprecationWarning: Call to deprecated `iter` (Attribute will be removed in 4.0.0, use self.epochs instead).\n",
      "  if __name__ == '__main__':\n"
     ]
    },
    {
     "data": {
      "text/plain": [
       "(1972196, 2756435)"
      ]
     },
     "execution_count": 24,
     "metadata": {},
     "output_type": "execute_result"
    }
   ],
   "source": [
    "wine2vec.train(sentences, total_examples=wine2vec.corpus_count, epochs=wine2vec.iter)"
   ]
  },
  {
   "cell_type": "markdown",
   "metadata": {},
   "source": [
    "### Playing with the Model\n",
    "Now that we have a trained model we can get to the fun part and start playing around with the results. As you can tell from the outputs below, there is definitely still some noise in the data that could be worked out by tuning the parameters further, but overall we are getting pretty good results.\n",
    "\n",
    "##### Words closest to a given word\n",
    "\"melon,\" \"berry,\" and \"oak\" are words that someone might use to describe the taste/smell of a wine."
   ]
  },
  {
   "cell_type": "code",
   "execution_count": 32,
   "metadata": {
    "collapsed": false
   },
   "outputs": [
    {
     "name": "stderr",
     "output_type": "stream",
     "text": [
      "C:\\Users\\thomas.j.cycyota\\AppData\\Local\\Continuum\\Anaconda2\\lib\\site-packages\\ipykernel\\__main__.py:1: DeprecationWarning: Call to deprecated `most_similar` (Method will be removed in 4.0.0, use self.wv.most_similar() instead).\n",
      "  if __name__ == '__main__':\n"
     ]
    },
    {
     "data": {
      "text/plain": [
       "[(u'energy', 0.8699564933776855),\n",
       " (u'sturdy', 0.8553102016448975),\n",
       " (u'crunch', 0.850803017616272),\n",
       " (u'grippy', 0.8497793078422546),\n",
       " (u'upright', 0.8402553796768188),\n",
       " (u'astringency', 0.8346679210662842),\n",
       " (u'firmness', 0.8314436078071594),\n",
       " (u'acidic', 0.8300552368164062),\n",
       " (u'gripping', 0.829682469367981),\n",
       " (u'thanks', 0.8195494413375854)]"
      ]
     },
     "execution_count": 32,
     "metadata": {},
     "output_type": "execute_result"
    }
   ],
   "source": [
    "wine2vec.most_similar('grip')"
   ]
  },
  {
   "cell_type": "code",
   "execution_count": 76,
   "metadata": {
    "collapsed": false
   },
   "outputs": [
    {
     "name": "stderr",
     "output_type": "stream",
     "text": [
      "C:\\Users\\thomas.j.cycyota\\AppData\\Local\\Continuum\\Anaconda2\\lib\\site-packages\\ipykernel\\__main__.py:1: DeprecationWarning: Call to deprecated `most_similar` (Method will be removed in 4.0.0, use self.wv.most_similar() instead).\n",
      "  if __name__ == '__main__':\n"
     ]
    },
    {
     "data": {
      "text/plain": [
       "[(u'bready', 0.9144774079322815),\n",
       " (u'buttery', 0.9054234027862549),\n",
       " (u'peachy', 0.8972986936569214),\n",
       " (u'warming', 0.8951722383499146),\n",
       " (u'leesy', 0.875410258769989),\n",
       " (u'aspect', 0.8745570182800293),\n",
       " (u'sugary', 0.8719088435173035),\n",
       " (u'yeasty', 0.8661444783210754),\n",
       " (u'pulpy', 0.8655073642730713),\n",
       " (u'overt', 0.8603687286376953)]"
      ]
     },
     "execution_count": 76,
     "metadata": {},
     "output_type": "execute_result"
    }
   ],
   "source": [
    "wine2vec.most_similar('nutty')"
   ]
  },
  {
   "cell_type": "code",
   "execution_count": 77,
   "metadata": {
    "collapsed": false
   },
   "outputs": [
    {
     "name": "stderr",
     "output_type": "stream",
     "text": [
      "C:\\Users\\thomas.j.cycyota\\AppData\\Local\\Continuum\\Anaconda2\\lib\\site-packages\\ipykernel\\__main__.py:1: DeprecationWarning: Call to deprecated `most_similar` (Method will be removed in 4.0.0, use self.wv.most_similar() instead).\n",
      "  if __name__ == '__main__':\n"
     ]
    },
    {
     "data": {
      "text/plain": [
       "[(u'peanut', 0.9437341690063477),\n",
       " (u'suggestive', 0.9409604668617249),\n",
       " (u'balsam', 0.9379593729972839),\n",
       " (u'wafer', 0.9378612041473389),\n",
       " (u'Drenched', 0.9377850294113159),\n",
       " (u'marshmallow', 0.9364205598831177),\n",
       " (u'plastic', 0.9346927404403687),\n",
       " (u'resin', 0.9338468313217163),\n",
       " (u'sassafras', 0.9336036443710327),\n",
       " (u'stems', 0.9324836730957031)]"
      ]
     },
     "execution_count": 77,
     "metadata": {},
     "output_type": "execute_result"
    }
   ],
   "source": [
    "wine2vec.most_similar('popcorn')"
   ]
  },
  {
   "cell_type": "markdown",
   "metadata": {},
   "source": [
    "Another thing that someone might use to describe a wine is how acidic it is"
   ]
  },
  {
   "cell_type": "code",
   "execution_count": 54,
   "metadata": {
    "collapsed": false
   },
   "outputs": [
    {
     "name": "stderr",
     "output_type": "stream",
     "text": [
      "C:\\Users\\thomas.j.cycyota\\AppData\\Local\\Continuum\\Anaconda2\\lib\\site-packages\\ipykernel\\__main__.py:1: DeprecationWarning: Call to deprecated `most_similar` (Method will be removed in 4.0.0, use self.wv.most_similar() instead).\n",
      "  if __name__ == '__main__':\n"
     ]
    },
    {
     "data": {
      "text/plain": [
       "[(u'energy', 0.8874624967575073),\n",
       " (u'narrow', 0.8824058771133423),\n",
       " (u'choppy', 0.8776118755340576),\n",
       " (u'wiry', 0.8742727041244507),\n",
       " (u'acid', 0.8734411001205444),\n",
       " (u'foamy', 0.8705145120620728),\n",
       " (u'snappy', 0.8683796525001526),\n",
       " (u'grating', 0.8674183487892151),\n",
       " (u'tartaric', 0.8597971796989441),\n",
       " (u'edgy', 0.8556100130081177)]"
      ]
     },
     "execution_count": 54,
     "metadata": {},
     "output_type": "execute_result"
    }
   ],
   "source": [
    "wine2vec.most_similar('acidic')"
   ]
  },
  {
   "cell_type": "markdown",
   "metadata": {},
   "source": [
    "Or what the body is like. \"full-bodied\" would be something that is thick like whole milk while \"light-bodied\" would be something that is thin like skim milk."
   ]
  },
  {
   "cell_type": "code",
   "execution_count": 80,
   "metadata": {
    "collapsed": false
   },
   "outputs": [
    {
     "name": "stderr",
     "output_type": "stream",
     "text": [
      "C:\\Users\\thomas.j.cycyota\\AppData\\Local\\Continuum\\Anaconda2\\lib\\site-packages\\ipykernel\\__main__.py:1: DeprecationWarning: Call to deprecated `most_similar` (Method will be removed in 4.0.0, use self.wv.most_similar() instead).\n",
      "  if __name__ == '__main__':\n"
     ]
    },
    {
     "data": {
      "text/plain": [
       "[(u'Full', 0.8341772556304932),\n",
       " (u'generously', 0.7808302640914917),\n",
       " (u'broadly', 0.7773233652114868),\n",
       " (u'filling', 0.7626659274101257),\n",
       " (u'lush', 0.7553116083145142),\n",
       " (u'smoothly', 0.7549856901168823),\n",
       " (u'richly', 0.7546985149383545),\n",
       " (u'broad', 0.7536203861236572),\n",
       " (u'lavishly', 0.7522820234298706),\n",
       " (u'Brawny', 0.7506261467933655)]"
      ]
     },
     "execution_count": 80,
     "metadata": {},
     "output_type": "execute_result"
    }
   ],
   "source": [
    "wine2vec.most_similar('full')"
   ]
  },
  {
   "cell_type": "markdown",
   "metadata": {},
   "source": [
    "Finally, you can also feel in your mouth how much tannin a wine has. Wines with lots of tannis give you a dry, furry feeling on your tounge."
   ]
  },
  {
   "cell_type": "code",
   "execution_count": 56,
   "metadata": {
    "collapsed": false
   },
   "outputs": [
    {
     "name": "stderr",
     "output_type": "stream",
     "text": [
      "C:\\Users\\thomas.j.cycyota\\AppData\\Local\\Continuum\\Anaconda2\\lib\\site-packages\\ipykernel\\__main__.py:1: DeprecationWarning: Call to deprecated `most_similar` (Method will be removed in 4.0.0, use self.wv.most_similar() instead).\n",
      "  if __name__ == '__main__':\n"
     ]
    },
    {
     "data": {
      "text/plain": [
       "[(u'support', 0.7396936416625977),\n",
       " (u'Firm', 0.7319772839546204),\n",
       " (u'tannic', 0.7305991053581238),\n",
       " (u'firm', 0.7191610932350159),\n",
       " (u'grainy', 0.7110586762428284),\n",
       " (u'grained', 0.7042685151100159),\n",
       " (u'tannin', 0.6936203241348267),\n",
       " (u'Tannins', 0.6932768821716309),\n",
       " (u'Structured', 0.6904804706573486),\n",
       " (u'structure', 0.6904735565185547)]"
      ]
     },
     "execution_count": 56,
     "metadata": {},
     "output_type": "execute_result"
    }
   ],
   "source": [
    "wine2vec.most_similar('tannins')"
   ]
  },
  {
   "cell_type": "markdown",
   "metadata": {},
   "source": [
    "##### Linear relationships between word pairs"
   ]
  },
  {
   "cell_type": "code",
   "execution_count": 57,
   "metadata": {
    "collapsed": true
   },
   "outputs": [],
   "source": [
    "def nearest_similarity_cosmul(start1, end1, end2):\n",
    "    similarities = wine2vec.most_similar_cosmul(\n",
    "        positive=[end2, start1],\n",
    "        negative=[end1]\n",
    "    )\n",
    "    start2 = similarities[0][0]\n",
    "    print(\"{start1} is related to {end1}, as {start2} is related to {end2}\".format(**locals()))\n",
    "    return start2"
   ]
  },
  {
   "cell_type": "code",
   "execution_count": 67,
   "metadata": {
    "collapsed": false
   },
   "outputs": [
    {
     "name": "stdout",
     "output_type": "stream",
     "text": [
      "oak is related to vanilla, as yeast is related to butter\n"
     ]
    },
    {
     "name": "stderr",
     "output_type": "stream",
     "text": [
      "C:\\Users\\thomas.j.cycyota\\AppData\\Local\\Continuum\\Anaconda2\\lib\\site-packages\\ipykernel\\__main__.py:4: DeprecationWarning: Call to deprecated `most_similar_cosmul` (Method will be removed in 4.0.0, use self.wv.most_similar_cosmul() instead).\n"
     ]
    }
   ],
   "source": [
    "nearest_similarity_cosmul('oak', 'vanilla', 'butter');"
   ]
  },
  {
   "cell_type": "code",
   "execution_count": 69,
   "metadata": {
    "collapsed": false
   },
   "outputs": [
    {
     "name": "stdout",
     "output_type": "stream",
     "text": [
      "full is related to berry, as lush is related to cherry\n"
     ]
    },
    {
     "name": "stderr",
     "output_type": "stream",
     "text": [
      "C:\\Users\\thomas.j.cycyota\\AppData\\Local\\Continuum\\Anaconda2\\lib\\site-packages\\ipykernel\\__main__.py:4: DeprecationWarning: Call to deprecated `most_similar_cosmul` (Method will be removed in 4.0.0, use self.wv.most_similar_cosmul() instead).\n"
     ]
    }
   ],
   "source": [
    "nearest_similarity_cosmul('full', 'berry', 'cherry');"
   ]
  },
  {
   "cell_type": "code",
   "execution_count": 70,
   "metadata": {
    "collapsed": false
   },
   "outputs": [
    {
     "name": "stdout",
     "output_type": "stream",
     "text": [
      "tannins is related to plum, as fizz is related to fresh\n"
     ]
    },
    {
     "name": "stderr",
     "output_type": "stream",
     "text": [
      "C:\\Users\\thomas.j.cycyota\\AppData\\Local\\Continuum\\Anaconda2\\lib\\site-packages\\ipykernel\\__main__.py:4: DeprecationWarning: Call to deprecated `most_similar_cosmul` (Method will be removed in 4.0.0, use self.wv.most_similar_cosmul() instead).\n"
     ]
    }
   ],
   "source": [
    "nearest_similarity_cosmul('tannins', 'plum', 'fresh');"
   ]
  },
  {
   "cell_type": "code",
   "execution_count": 71,
   "metadata": {
    "collapsed": false,
    "scrolled": true
   },
   "outputs": [
    {
     "name": "stdout",
     "output_type": "stream",
     "text": [
      "full is related to bodied, as narrow is related to acidic\n"
     ]
    },
    {
     "name": "stderr",
     "output_type": "stream",
     "text": [
      "C:\\Users\\thomas.j.cycyota\\AppData\\Local\\Continuum\\Anaconda2\\lib\\site-packages\\ipykernel\\__main__.py:4: DeprecationWarning: Call to deprecated `most_similar_cosmul` (Method will be removed in 4.0.0, use self.wv.most_similar_cosmul() instead).\n"
     ]
    }
   ],
   "source": [
    "nearest_similarity_cosmul('full', 'bodied', 'acidic');"
   ]
  }
 ],
 "metadata": {
  "kernelspec": {
   "display_name": "Python 2",
   "language": "python",
   "name": "python2"
  },
  "language_info": {
   "codemirror_mode": {
    "name": "ipython",
    "version": 2
   },
   "file_extension": ".py",
   "mimetype": "text/x-python",
   "name": "python",
   "nbconvert_exporter": "python",
   "pygments_lexer": "ipython2",
   "version": "2.7.13"
  }
 },
 "nbformat": 4,
 "nbformat_minor": 2
}
